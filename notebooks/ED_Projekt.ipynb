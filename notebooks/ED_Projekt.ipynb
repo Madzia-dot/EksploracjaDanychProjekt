{
  "nbformat": 4,
  "nbformat_minor": 0,
  "metadata": {
    "colab": {
      "provenance": []
    },
    "kernelspec": {
      "name": "python3",
      "display_name": "Python 3"
    },
    "language_info": {
      "name": "python"
    }
  },
  "cells": [
    {
      "cell_type": "markdown",
      "source": [
        "1. Import i dane"
      ],
      "metadata": {
        "id": "0lSMPUkeTP6f"
      }
    },
    {
      "cell_type": "code",
      "source": [
        "import pandas as pd\n",
        "import matplotlib.pyplot as plt\n",
        "import seaborn as sns\n",
        "import re\n",
        "from sklearn.feature_extraction.text import TfidfVectorizer\n",
        "from sklearn.naive_bayes import MultinomialNB, ComplementNB, BernoulliNB\n",
        "from sklearn.linear_model import LogisticRegression\n",
        "from sklearn.svm import SVC, LinearSVC\n",
        "from sklearn.ensemble import RandomForestClassifier\n",
        "from sklearn.model_selection import cross_val_score\n",
        "from sklearn.pipeline import Pipeline\n",
        "from sklearn.preprocessing import LabelEncoder\n",
        "import nltk\n",
        "from nltk.corpus import stopwords\n",
        "from nltk.stem import PorterStemmer, WordNetLemmatizer\n",
        "\n",
        "nltk.download(\"stopwords\")\n",
        "nltk.download(\"wordnet\")"
      ],
      "metadata": {
        "id": "FZoUBXZJTTqf"
      },
      "execution_count": null,
      "outputs": []
    },
    {
      "cell_type": "markdown",
      "source": [
        "2. Czyszczenie tekstu i przetwarzanie"
      ],
      "metadata": {
        "id": "GEavMT0tTVt-"
      }
    },
    {
      "cell_type": "code",
      "source": [
        "# Funkcje przetwarzające tekst\n",
        "def clean_text(text):\n",
        "    if not isinstance(text, str):\n",
        "        return \"\"\n",
        "    text = text.lower()\n",
        "    text = re.sub(r\"http\\S+|www.\\S+\", \"\", text)\n",
        "    text = re.sub(r\"[^a-z\\s]\", \"\", text)\n",
        "    text = re.sub(r\"\\s+\", \" \", text).strip()\n",
        "    return text\n",
        "\n",
        "def apply_stemming(text):\n",
        "    stemmer = PorterStemmer()\n",
        "    stop_words = set(stopwords.words(\"english\"))\n",
        "    return \" \".join([stemmer.stem(word) for word in text.split() if word not in stop_words])\n",
        "\n",
        "def apply_lemmatization(text):\n",
        "    lemmatizer = WordNetLemmatizer()\n",
        "    stop_words = set(stopwords.words(\"english\"))\n",
        "    return \" \".join([lemmatizer.lemmatize(word) for word in text.split() if word not in stop_words])\n"
      ],
      "metadata": {
        "id": "YTlHa80VTb5A"
      },
      "execution_count": null,
      "outputs": []
    },
    {
      "cell_type": "markdown",
      "source": [
        "3. Wczytywanie i przygotowanie danych"
      ],
      "metadata": {
        "id": "jVOSxMgITja2"
      }
    },
    {
      "cell_type": "code",
      "source": [
        "df = pd.read_csv(\"data/train.csv\")\n",
        "df = df.dropna(subset=[\"text\"]).drop_duplicates()\n",
        "\n",
        "df[\"clean_text\"] = df[\"text\"].apply(clean_text)\n",
        "df[\"stemmed\"] = df[\"clean_text\"].apply(apply_stemming)\n",
        "df[\"lemmatized\"] = df[\"clean_text\"].apply(apply_lemmatization)\n",
        "\n",
        "# Zakodowanie etykiet jako liczby\n",
        "label_encoder = LabelEncoder()\n",
        "df[\"label\"] = label_encoder.fit_transform(df[\"Category\"])\n"
      ],
      "metadata": {
        "id": "A5WCucuATnce"
      },
      "execution_count": null,
      "outputs": []
    },
    {
      "cell_type": "markdown",
      "source": [
        "4. Balansowanie danych"
      ],
      "metadata": {
        "id": "Zl03Vy2iTpMK"
      }
    },
    {
      "cell_type": "code",
      "source": [
        "def balance_dataframe(df, label_col, n_per_class):\n",
        "    return df.groupby(label_col).apply(lambda x: x.sample(n=min(n_per_class, len(x)), random_state=42)).reset_index(drop=True)\n",
        "\n",
        "df_balanced = balance_dataframe(df, \"Category\", 200)\n",
        "df_balanced[\"label\"] = label_encoder.transform(df_balanced[\"Category\"])\n"
      ],
      "metadata": {
        "id": "e8Hwj-q-Trge"
      },
      "execution_count": null,
      "outputs": []
    },
    {
      "cell_type": "markdown",
      "source": [
        "5. Modele i ewaluacja krzyżowa"
      ],
      "metadata": {
        "id": "mR3OVeKMTteN"
      }
    },
    {
      "cell_type": "code",
      "source": [
        "from sklearn.model_selection import StratifiedKFold\n",
        "import numpy as np\n",
        "\n",
        "models = {\n",
        "    \"MultinomialNB\": MultinomialNB(),\n",
        "    \"ComplementNB\": ComplementNB(),\n",
        "    \"BernoulliNB\": BernoulliNB(),\n",
        "    \"LogReg_l2\": LogisticRegression(penalty='l2', solver='liblinear', max_iter=1000),\n",
        "    \"LogReg_l1\": LogisticRegression(penalty='l1', solver='liblinear', max_iter=1000),\n",
        "    \"LinearSVC\": LinearSVC(max_iter=1000),\n",
        "    \"SVC_rbf\": SVC(kernel='rbf'),\n",
        "    \"SVC_poly\": SVC(kernel='poly'),\n",
        "    \"RF_gini\": RandomForestClassifier(criterion=\"gini\", n_estimators=100, random_state=42),\n",
        "    \"RF_entropy\": RandomForestClassifier(criterion=\"entropy\", n_estimators=100, random_state=42)\n",
        "}\n",
        "\n",
        "def evaluate_models_cv(X_texts, y_labels, title_suffix):\n",
        "    results = {}\n",
        "    skf = StratifiedKFold(n_splits=5, shuffle=True, random_state=42)\n",
        "    for name, model in models.items():\n",
        "        pipeline = Pipeline([\n",
        "            (\"tfidf\", TfidfVectorizer(max_features=5000)),\n",
        "            (\"clf\", model)\n",
        "        ])\n",
        "        scores = cross_val_score(pipeline, X_texts, y_labels, cv=skf, scoring=\"accuracy\", n_jobs=-1)\n",
        "        results[name] = (scores.mean(), scores.std())\n",
        "        print(f\"{title_suffix} | {name} — Accuracy: {scores.mean():.4f} ± {scores.std():.4f}\")\n",
        "    return results\n"
      ],
      "metadata": {
        "id": "oa1w6ulTTw6e"
      },
      "execution_count": null,
      "outputs": []
    },
    {
      "cell_type": "markdown",
      "source": [
        "6. Uruchomienie czwartej ewaluacji"
      ],
      "metadata": {
        "id": "gMKqfxsXTzFw"
      }
    },
    {
      "cell_type": "code",
      "source": [
        "results = {\n",
        "    \"Stemowane (pełne)\": evaluate_models_cv(df[\"stemmed\"], df[\"label\"], \"Stem-klasyczne\"),\n",
        "    \"Lematyzowane (pełne)\": evaluate_models_cv(df[\"lemmatized\"], df[\"label\"], \"Lem-klasyczne\"),\n",
        "    \"Stemowane (zbal.)\": evaluate_models_cv(df_balanced[\"stemmed\"], df_balanced[\"label\"], \"Stem-zbalansowane\"),\n",
        "    \"Lematyzowane (zbal.)\": evaluate_models_cv(df_balanced[\"lemmatized\"], df_balanced[\"label\"], \"Lem-zbalansowane\")\n",
        "}\n"
      ],
      "metadata": {
        "id": "ASFZQCihT4Rc"
      },
      "execution_count": null,
      "outputs": []
    },
    {
      "cell_type": "markdown",
      "source": [
        "7. Wizualizacja porównania"
      ],
      "metadata": {
        "id": "W6KzdDZBT6GK"
      }
    },
    {
      "cell_type": "code",
      "source": [
        "def plot_cv_results(results_dict):\n",
        "    for dataset_name, scores_dict in results_dict.items():\n",
        "        plt.figure(figsize=(10, 6))\n",
        "        models = list(scores_dict.keys())\n",
        "        means = [v[0] for v in scores_dict.values()]\n",
        "        stds = [v[1] for v in scores_dict.values()]\n",
        "\n",
        "        sns.barplot(x=means, y=models, xerr=stds, palette=\"viridis\")\n",
        "        plt.title(f\"Ewaluacja krzyżowa – {dataset_name}\")\n",
        "        plt.xlabel(\"Średnia dokładność (± std)\")\n",
        "        plt.xlim(0, 1)\n",
        "        for i, m in enumerate(means):\n",
        "            plt.text(m + 0.01, i, f\"{m:.3f}\", va=\"center\")\n",
        "        plt.tight_layout()\n",
        "        plt.show()\n",
        "\n",
        "plot_cv_results(results)\n"
      ],
      "metadata": {
        "id": "AX6Q_ZmjT-Zh"
      },
      "execution_count": null,
      "outputs": []
    }
  ]
}