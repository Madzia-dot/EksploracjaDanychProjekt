{
  "nbformat": 4,
  "nbformat_minor": 0,
  "metadata": {
    "colab": {
      "provenance": []
    },
    "kernelspec": {
      "name": "python3",
      "display_name": "Python 3"
    },
    "language_info": {
      "name": "python"
    }
  },
  "cells": [
    {
      "cell_type": "code",
      "execution_count": null,
      "metadata": {
        "id": "_kpHJ3Zx5-Te"
      },
      "outputs": [],
      "source": [
        "import pandas as pd\n",
        "import matplotlib.pyplot as plt\n",
        "import seaborn as sns\n",
        "import re\n",
        "\n",
        "df = pd.read_csv(\"data/train.csv\")\n",
        "\n",
        "print(\"Liczba rekordów:\", len(df))\n",
        "print(\"\\n Podgląd danych:\")\n",
        "print(df.head())\n",
        "\n",
        "print(\"\\n Brakujące dane:\")\n",
        "print(df.isnull().sum())\n",
        "\n",
        "duplikaty = df.duplicated().sum()\n",
        "print(f\"\\n Liczba duplikatów: {duplikaty}\")\n",
        "\n",
        "df[\"text_length\"] = df[\"text\"].apply(lambda x: len(str(x).split()))\n",
        "print(\"\\n Statystyki długości tekstów (liczba słów):\")\n",
        "print(df[\"text_length\"].describe())\n",
        "\n",
        "\n",
        "plt.figure(figsize=(8, 4))\n",
        "sns.histplot(df[\"text_length\"], bins=50, kde=True)\n",
        "plt.title(\"Rozkład długości tekstów (w słowach)\")\n",
        "plt.xlabel(\"Liczba słów w tekście\")\n",
        "plt.ylabel(\"Liczba wiadomości\")\n",
        "plt.tight_layout()\n",
        "plt.show()\n",
        "\n",
        "print(\"\\n Rozkład kategorii:\")\n",
        "print(df[\"Category\"].value_counts())\n",
        "\n",
        "plt.figure(figsize=(8, 4))\n",
        "sns.countplot(data=df, x=\"Category\", order=df[\"Category\"].value_counts().index)\n",
        "plt.title(\"Liczba wiadomości w każdej kategorii\")\n",
        "plt.xlabel(\"Kategoria\")\n",
        "plt.ylabel(\"Liczba wiadomości\")\n",
        "plt.xticks(rotation=45)\n",
        "plt.tight_layout()\n",
        "plt.show()\n",
        "\n",
        "\n",
        "def zawiera_link(text):\n",
        "    return bool(re.search(r\"http[s]?://\", str(text)))\n",
        "\n",
        "df[\"has_link\"] = df[\"text\"].apply(zawiera_link)\n",
        "print(\"\\n Liczba tekstów zawierających linki:\", df[\"has_link\"].sum())\n",
        "\n",
        "#usuniecie brakow i duplikatow\n",
        "df = df.dropna(subset=[\"text\"])\n",
        "df = df.drop_duplicates()\n",
        "\n",
        "\n",
        "def clean_text(text):\n",
        "    if not isinstance(text, str):\n",
        "        return \"\"\n",
        "    text = text.lower()\n",
        "\n",
        "    text = re.sub(r\"http\\S+|www.\\S+\", \"\", text)\n",
        "\n",
        "    text = re.sub(r\"[^a-z\\s]\", \"\", text)\n",
        "    text = re.sub(r\"\\s+\", \" \", text).strip()\n",
        "\n",
        "    return text\n",
        "\n",
        "df[\"clean_text\"] = df[\"text\"].apply(clean_text)\n",
        "print(df[[\"text\", \"clean_text\"]].head())"
      ]
    }
  ]
}